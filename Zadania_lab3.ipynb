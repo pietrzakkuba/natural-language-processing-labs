{
  "nbformat": 4,
  "nbformat_minor": 0,
  "metadata": {
    "kernelspec": {
      "display_name": "Python 3",
      "language": "python",
      "name": "python3"
    },
    "language_info": {
      "codemirror_mode": {
        "name": "ipython",
        "version": 3
      },
      "file_extension": ".py",
      "mimetype": "text/x-python",
      "name": "python",
      "nbconvert_exporter": "python",
      "pygments_lexer": "ipython3",
      "version": "3.6.0"
    },
    "colab": {
      "name": "Zadania_lab3.ipynb",
      "provenance": [],
      "include_colab_link": true
    }
  },
  "cells": [
    {
      "cell_type": "markdown",
      "metadata": {
        "id": "view-in-github",
        "colab_type": "text"
      },
      "source": [
        "<a href=\"https://colab.research.google.com/github/pietrzakkuba/natural-language-processing-labs/blob/master/Zadania_lab3.ipynb\" target=\"_parent\"><img src=\"https://colab.research.google.com/assets/colab-badge.svg\" alt=\"Open In Colab\"/></a>"
      ]
    },
    {
      "cell_type": "markdown",
      "metadata": {
        "id": "CzvwYjlEtCqz",
        "colab_type": "text"
      },
      "source": [
        "# Modele językowe - n-gramy \n",
        "\n",
        "---\n",
        "\n",
        "## 1. N-gramy słów w klasyfikacji\n",
        "Poniżej stworzono kod, który przeprowadza klasyfikację dokumentów należących do 4 kategorii. W odróżnieniu do poprzednich zajęć - tu zaproponowano klasyfikator SVC (algorytm SVM, popularna alternatywa dla NaiveBayes), która również świetnie się spisuje w problemach klasyfikacji tekstu.\n",
        "\n",
        "**<span style=\"color: red\">Zadanie 1a (0.5 punktu)</span>** Uruchom kod, przyjrzyj się wygenerowanym wynikom (a najlepiej zachowaj je gdzieś, będą potrzebne). <br/>\n",
        "Zapoznaj się z dokumentacją TfIdfVectorizer, odnajdź opcję uwzględnienia nie tylko pojedynczych słów jako cechy, ale także ich par i **zmodyfikuj poniższy kod tak, aby klasyfikacja uwzględniała zarówno pojedyncze słowa jak i pary (pozostaw parametr max_df=0.1 nienaruszony).** <span style=\"color: red\"> Zmodyfikuj linię 30.</span><br/> <br/>\n",
        "**<span style=\"color: red\">Zadanie 1b (0.5 punktu)</span>** Jak zmieniła się liczba cech po uwzględnieniu tych par? Czy coś się zmieniło w raporcie z klasyfikacji? Uzupełnij odpowiedzi na pytania w komórce poniżej kodu."
      ]
    },
    {
      "cell_type": "code",
      "metadata": {
        "id": "eYg0XiNatCq4",
        "colab_type": "code",
        "outputId": "0c5fa62a-5cc8-4813-e3d8-5799a1983401",
        "colab": {
          "base_uri": "https://localhost:8080/",
          "height": 221
        }
      },
      "source": [
        "from sklearn.pipeline import Pipeline\n",
        "from sklearn.svm import SVC\n",
        "from sklearn.feature_extraction.text import TfidfVectorizer\n",
        "from sklearn.metrics import classification_report\n",
        "from sklearn.datasets import fetch_20newsgroups # zbiór danych zawarty w Sklearn, który zawiera dane z 20 grup newsowych\n",
        "import numpy as np\n",
        "\n",
        "# ------------------- WCZYTANIE DANYCH -----------\n",
        "\n",
        "np.random.seed(0) # ustaw seed na 0, aby zapewnić powtarzalność eksperymentu\n",
        "\n",
        "categories = ['sci.space', 'comp.graphics', 'talk.politics.misc', 'comp.sys.mac.hardware'] # kategorie do analizy\n",
        "\n",
        "train = fetch_20newsgroups(subset='train',\n",
        "                                   categories=categories,\n",
        "                                   shuffle=True,\n",
        "                                   random_state=42) # pobieramy zbiór uczący (na nim będziemy trenować) dla wybranych kategorii.\n",
        "    \n",
        "\n",
        "test = fetch_20newsgroups(subset='test',\n",
        "                                  categories=categories,\n",
        "                                  shuffle=True,\n",
        "                                  random_state=42) # pobieramy zbiór testowy (na nim będziemy testować) dla wybranych kategorii\n",
        "\n",
        "# ------------------- STWORZENIE PIPELINE'U -----------\n",
        "    \n",
        "pipeline = Pipeline([             # stwórzmy pipeline surowy tekst -> TFIDF vectorizer -> klasyfikator \n",
        "    ('tfidf', TfidfVectorizer(max_df=0.1, ngram_range=(1, 2))),\n",
        "    ('clf', SVC(C=1.0, kernel='linear')),\n",
        "])\n",
        "\n",
        "# ------------------- TRANSFORMACJA I UCZENIE -----------\n",
        "\n",
        "pipeline.fit(train.data, train.target) # zwektoryzujmy dane i wytrenujmy klasyfikator na zbiorze treningowym\n",
        "\n",
        "\n",
        "print(\"W słowniku znajduje się {n} różnych cech\".format(\n",
        "    n=len(pipeline.named_steps['tfidf'].vocabulary_.keys())\n",
        "))\n",
        "\n",
        "# ------------------- OCENA KLASYFIKATORA -----------\n",
        "print(classification_report(test.target, pipeline.predict(test.data))) # testowanie klasyfikatora - szerokie podsumowanie uwzględniające miary: precision, recall, f1"
      ],
      "execution_count": 0,
      "outputs": [
        {
          "output_type": "stream",
          "text": [
            "W słowniku znajduje się 287718 różnych cech\n",
            "              precision    recall  f1-score   support\n",
            "\n",
            "           0       0.87      0.94      0.91       389\n",
            "           1       0.92      0.94      0.93       385\n",
            "           2       0.95      0.90      0.92       394\n",
            "           3       0.97      0.90      0.93       310\n",
            "\n",
            "    accuracy                           0.92      1478\n",
            "   macro avg       0.93      0.92      0.92      1478\n",
            "weighted avg       0.92      0.92      0.92      1478\n",
            "\n"
          ],
          "name": "stdout"
        }
      ]
    },
    {
      "cell_type": "code",
      "metadata": {
        "id": "CwzDL16DtCq-",
        "colab_type": "code",
        "colab": {}
      },
      "source": [
        "1. O ile zwiększyła się liczba cech w klasyfikatorze? \n",
        "  unigramy:             34774\n",
        "  unigramy i bigramy:   287718\n",
        "  różnica:              252944\n",
        "2. Czy precyzja w którejkolwiek klasie wzrosła? w której/których?\n",
        "    wzrosła w klasach \n",
        "    - 1 (0.92 v 0.91) \n",
        "    - 2 (0.95 v 0.94)\n",
        "    - 3 (0.97 v 0.96)\n",
        "3. Czy recall w którejkolwiek klasie wzrósł? w której/których?\n",
        "    wzrósł w klasach\n",
        "    - 0 (0.94 v 0.93)\n",
        "    - 1 (0.94 v 0.93)"
      ],
      "execution_count": 0,
      "outputs": []
    },
    {
      "cell_type": "markdown",
      "metadata": {
        "id": "VjWCwTJAtCrE",
        "colab_type": "text"
      },
      "source": [
        "## 2. N-gramy liter w klasyfikacji\n",
        "Poza n-gramami stworzonymi z następujących po sobie wyrazów - bardzo często używane są również n-gramy znakowe, stworzone z następujących po sobie liter. <br/><br/>\n",
        "Dla przykładu. wszystkie 3-gramy (trigramy) znakowe z napisu \"Hello world\" to: <br/>\n",
        "\"Hel\", \"ell\", \"llo\", \"lo \", \"o w\", \" wo\", \"wor\", \"orl\", \"rld\". <br/><br/>\n",
        "Do czego mogłaby być użyta taka reprezentacja tekstów? Okazuje się, że całkiem mocno pomaga to w rozwiązywaniiu problemu detekcji języka w którym został zapisany dokument, szczególnie w sytuacji, kiedy teksty są bardzo krótkie (np. tweety, smsy).\n",
        "<br/>\n",
        "Poniżej znajduje się szkielet klasyfikatora rozpoznającego język w którym zapisany jest dokument.\n",
        "Języków jest 6: polski, angielski, niemiecki, francuski, hiszpański i włoski.\n",
        "<br/>\n",
        "**<span style=\"color: red\">Zadanie 2 (1 punkt)</span>**: Przedstawiony klasyfikator jest znanym już z poprzednich przykładów kodem. Waszym zadaniem jest:\n",
        "<ol>\n",
        "    <li>Zapoznanie się dokumentacją Tf-Idf vectorizera, aby znaleźć funkcjonalność, która zamiast całych słów, stworzy cechy na podstawie liter i wykorzystanie tej funkcjonalności w kodzie</li>\n",
        "    <li>Ustawienie takiego zakresu n-gramów, aby zmaksymalizować uzyskany wynik (Oczekiwane 1.0 precyzji i recallu we wszystkich kategoriach przy pozostawieniu wartośi max_features = 300 elementów)</li>\n",
        "    <li>Poprawnie zaklasyfikuje krotki przykład zapisany w linii 43 (Bonjour przypisze do kategorii 'french').</li>\n",
        "</ol>"
      ]
    },
    {
      "cell_type": "code",
      "metadata": {
        "id": "GcJD7btGtCrF",
        "colab_type": "code",
        "outputId": "71fa06e3-2de0-407f-987f-0759d95f3a80",
        "colab": {
          "base_uri": "https://localhost:8080/",
          "height": 476
        }
      },
      "source": [
        "from sklearn.pipeline import Pipeline\n",
        "from sklearn.feature_extraction.text import TfidfVectorizer\n",
        "from sklearn.linear_model import LogisticRegression\n",
        "from sklearn.preprocessing import StandardScaler\n",
        "from sklearn.metrics import classification_report\n",
        "import pandas\n",
        "import numpy as np\n",
        "\n",
        "# -------------------- FUNKCJE POMOCNICZNE --------\n",
        "\n",
        "# Funkcja mapująca identyfikator liczbowy kategorii na wartość tekstową, np: 0->\"polish\", 1->\"english\"\n",
        "def get_class_name_from_id(ids, mapping):\n",
        "    return [mapping[id] for id in ids]\n",
        "\n",
        "# ------------------- WCZYTANIE DANYCH -----------\n",
        "\n",
        "full_dataset = pandas.read_csv('language_detection_1000.csv', encoding='utf-8') # wczytaj dane z pliku CSV\n",
        "lang_to_id = {'polish': 0, 'english': 1, 'french': 2,\n",
        "              'german': 3, 'italian': 4, 'spanish': 5}\n",
        "id_to_lang = {v: k for k,v in lang_to_id.items()}\n",
        "\n",
        "full_dataset['label_num'] = full_dataset.lang.map(lang_to_id)  # ponieważ nazwy kategorii zapisane są z użyciem stringów: \"ham\"/\"spam\", wykonujemy mapowanie tych wartości na liczby, aby móc wykonać klasyfikację. \n",
        "\n",
        "np.random.seed(0)                                       # ustaw seed na 0, aby zapewnić powtarzalność eksperymentu\n",
        "train_indices = np.random.rand(len(full_dataset)) < 0.7 # wylosuj 70% wierszy, które znajdą się w zbiorze treningowym\n",
        "\n",
        "train = full_dataset[train_indices] # wybierz zbior treningowy (70%)\n",
        "test = full_dataset[~train_indices] # wybierz zbiór testowy (dopełnienie treningowego - 30%)\n",
        "\n",
        "\n",
        "# ------------------- STWORZENIE PIPELINE'U -----------\n",
        "    \n",
        "pipeline = Pipeline([             # stwórzmy pipeline surowy tekst -> TFIDF vectorizer -> klasyfikator \n",
        "    ('tfidf', TfidfVectorizer(max_features=300, analyzer='char', ngram_range=(1, 2))),\n",
        "    ('scaler', StandardScaler(with_mean = False)),\n",
        "    ('clf', LogisticRegression()),\n",
        "])\n",
        "\n",
        "# ------------------- TRANSFORMACJA I UCZENIE -----------\n",
        "\n",
        "pipeline.fit(train['text'], train['label_num']) # zwektoryzujmy dane i wytrenujmy klasyfikator na zbiorze treningowym\n",
        "\n",
        "\n",
        "print(\"Oto kilka przykładowych cech stworzonych przez TfidfVectorizer: {n}\".format(\n",
        "    n=list(pipeline.named_steps['tfidf'].vocabulary_.keys())[:5]))\n",
        "\n",
        "# ------------------- WERYFIKACJA NA KRÓTKIM TEKŚCIE ----\n",
        "\n",
        "text_to_predict = \"Bonjour!\"\n",
        "predicted = pipeline.predict([text_to_predict])\n",
        "print(\"\\n\\nTekst: {t} został zaklasyfikowany jako: {p}\\n\\n\".format(\n",
        "    t=text_to_predict,\n",
        "    p=id_to_lang[predicted[0]]\n",
        "))\n",
        "\n",
        "\n",
        "# ------------------- OCENA KLASYFIKATORA -----------\n",
        "print(classification_report(\n",
        "    get_class_name_from_id(test['label_num'], id_to_lang), \n",
        "    get_class_name_from_id(pipeline.predict(test['text']), id_to_lang)\n",
        "))"
      ],
      "execution_count": 13,
      "outputs": [
        {
          "output_type": "stream",
          "text": [
            "/usr/local/lib/python3.6/dist-packages/sklearn/linear_model/_logistic.py:940: ConvergenceWarning: lbfgs failed to converge (status=1):\n",
            "STOP: TOTAL NO. of ITERATIONS REACHED LIMIT.\n",
            "\n",
            "Increase the number of iterations (max_iter) or scale the data as shown in:\n",
            "    https://scikit-learn.org/stable/modules/preprocessing.html\n",
            "Please also refer to the documentation for alternative solver options:\n",
            "    https://scikit-learn.org/stable/modules/linear_model.html#logistic-regression\n",
            "  extra_warning_msg=_LOGISTIC_SOLVER_CONVERGENCE_MSG)\n"
          ],
          "name": "stderr"
        },
        {
          "output_type": "stream",
          "text": [
            "Oto kilka przykładowych cech stworzonych przez TfidfVectorizer: ['a', 'p', 'e', 'l', 'u']\n",
            "\n",
            "\n",
            "Tekst: Bonjour! został zaklasyfikowany jako: french\n",
            "\n",
            "\n",
            "              precision    recall  f1-score   support\n",
            "\n",
            "     english       1.00      1.00      1.00       303\n",
            "      french       1.00      1.00      1.00       280\n",
            "      german       1.00      1.00      1.00       337\n",
            "     italian       1.00      1.00      1.00       273\n",
            "      polish       1.00      1.00      1.00       291\n",
            "     spanish       1.00      1.00      1.00       299\n",
            "\n",
            "    accuracy                           1.00      1783\n",
            "   macro avg       1.00      1.00      1.00      1783\n",
            "weighted avg       1.00      1.00      1.00      1783\n",
            "\n"
          ],
          "name": "stdout"
        }
      ]
    },
    {
      "cell_type": "markdown",
      "metadata": {
        "id": "JEt5_CPItCrK",
        "colab_type": "text"
      },
      "source": [
        "Widzimy, że problem jest stosunkowo prosty. Po co zatem używać n-gramów znakowych? Aby zaoszczędzić pamięć i podołać sytuacjom, w których zbiór testowy składa się ze słów, które nie występują w korpusie uczącym. <br/>\n",
        "\n",
        "O ile wszystkich słów w tych 6 językach jest \"30078\", to trigramów znakowych jest już tylko \"15274\", a bigramów - \"2059\". W związku z tym: <ol>\n",
        "<li>Używając n-gramów znakowych często możemy ograniczyć liczbę cech</li>\n",
        "<li>N-gramy znakowe pomogą nam w sytuacjach, kiedy dane słowo nie wystąpiło w tekście uczącym. Jeśli opieramy uczenie na pełnych słowach i cały nasz tekst testowy to niewystępujące w korpusie uczącym - \"bonjour\", wtedy wektor BOW będzie zawierał same zera, przez co będzie miał problem z przydziałem do odpowiedniej klasy. <br/> N-gramy znakowe nawet jeśli nie napotkały danego słowa podczas analizy korpusu, to na podstawie budowy samego słowa są w stanie przewidywać do jakiego języka słowo należy. Np. cokolwiek zawierającego trigram \"żeb\" należeć będzie raczej do języka polskiego.</li>\n",
        "</ol>\n",
        "\n",
        "---\n",
        "\n",
        "### 2a - istotność cech\n",
        "\n",
        "Ponieważ w zadaniu 2 użyliśmy znanego z zajęć z przedmiotu \"Sztuczna Inteligencja\" klasyfikatora liniowego - regresji logistycznej, podejrzeć możemy jakie cechy najsilniej sugerują nam przynależność do danej klasy. Uruchom poniższy kod, aby zobaczyć jakie cechy są najważniejsze dla danych kategorii. Modyfikując parametry TfidfVectorizer możesz zobaczyć jakie słowa/ciągi znaków są najistotniejsze do detekcji danego języka."
      ]
    },
    {
      "cell_type": "code",
      "metadata": {
        "id": "IN6tc6oatCrM",
        "colab_type": "code",
        "colab": {
          "base_uri": "https://localhost:8080/",
          "height": 629
        },
        "outputId": "d41a390d-74e3-4da0-d4c9-49666e13c54b"
      },
      "source": [
        "# Funkcja, z użyciem której możemy ocenić które cechy najsilniej skojarzone są z danymi klasami.\n",
        "# Wyświetli listę słów/n-gramów znakowych, których obecność najsilniej wpływa na przydział do danej klasy\n",
        "def language_indicators(feature_names, feature_importances, id_to_lang):\n",
        "    for i, language in enumerate(feature_importances): # iterujemy po macierzy feature_importances (wymiarów: język x cechy) wierszami (czyli język po języku)\n",
        "        scored_features = list(zip(feature_names, language)) # tworzymy skojarzenie nazw cech z wagami modelu (ponieważ używamy regresji logistycznej - każda cecha (słowo/n-gram) ma swoją wagę, która jest optymalizowana w procesie uczenia! Cechy z wysokimi wagami są ważne dla danej klasy. Każda klasa ma osobny model ze swoimi wagami!)\n",
        "        scored_features = sorted(scored_features, key=lambda x: x[1], reverse=True) # posortujmy cechy skojarzone z wagami malejąco \n",
        "        print(\"W rozpoznaniu języka {lang} najważniejsze cechy to:\".format(\n",
        "            lang=id_to_lang[i]) #zamieńmy identyfikator numeryczny kategorii na nazwę języka\n",
        "        )\n",
        "        for feature, score in scored_features[:5]: # wybierzmy po 5 najważniejszych cech (najwyższe wartości uczonych współczynników)\n",
        "            print(\"\\t'{feature}': {score}\".format(feature=feature, score=score))\n",
        "        \n",
        "\n",
        "# ------------------- WYŚWIETLENIE NAJWAŻNIEJSZYCH CECH DLA KAŻDEJ KATEGORII\n",
        "language_indicators(\n",
        "    pipeline.named_steps['tfidf'].get_feature_names(), # pobierz nazwy cech\n",
        "    pipeline.named_steps['clf'].coef_, # pobierz wyuczone współczynniki (regresja logistyczna to stworzenie modelu opisanego wzorem y = e^(-wx - b), gdzie uczymy się współczynników w. Pole coef_ zawiera te współczynniki dla każdego języka z osobna)\n",
        "    id_to_lang # mapowanie z identyfikatora numerycznego na pełną nazwę języka - zwiększa czytelność wygenerowanego raportu\n",
        ")"
      ],
      "execution_count": 14,
      "outputs": [
        {
          "output_type": "stream",
          "text": [
            "W rozpoznaniu języka polish najważniejsze cechy to:\n",
            "\t'ł': 0.1509707347988361\n",
            "\t'j': 0.135217134997585\n",
            "\t'z': 0.13113468478598367\n",
            "\t'cz': 0.12998982152680838\n",
            "\t'ę': 0.12779596133854795\n",
            "W rozpoznaniu języka english najważniejsze cechy to:\n",
            "\t'th': 0.376347526082581\n",
            "\t' t': 0.33094726830889876\n",
            "\t'd ': 0.2677457916467699\n",
            "\t'y ': 0.23154803165426466\n",
            "\t'ea': 0.2203909880169\n",
            "W rozpoznaniu języka french najważniejsze cechy to:\n",
            "\t'é': 0.35851935737234025\n",
            "\t't ': 0.2634601906714446\n",
            "\t'ce': 0.24955055970457818\n",
            "\t'ou': 0.23153178926514864\n",
            "\t'ai': 0.2205597361992043\n",
            "W rozpoznaniu języka german najważniejsze cechy to:\n",
            "\t'au': 0.23015934671360036\n",
            "\t'ei': 0.21988326812855527\n",
            "\t'ä': 0.2021473849307858\n",
            "\t'ch': 0.20019262819784162\n",
            "\t'er': 0.1820064362862421\n",
            "W rozpoznaniu języka italian najważniejsze cechy to:\n",
            "\t'i ': 0.4198830922519403\n",
            "\t'o ': 0.3320755235972372\n",
            "\t'zi': 0.26568197250067777\n",
            "\t'll': 0.245572454703498\n",
            "\t'tt': 0.24205806003820174\n",
            "W rozpoznaniu języka spanish najważniejsze cechy to:\n",
            "\t'os': 0.2632302780753571\n",
            "\t'ci': 0.25373908963731334\n",
            "\t'ue': 0.24180120588357384\n",
            "\t' e': 0.24102137886117675\n",
            "\t' y': 0.24084198924815345\n"
          ],
          "name": "stdout"
        }
      ]
    },
    {
      "cell_type": "markdown",
      "metadata": {
        "id": "JQ-V8BRptCrR",
        "colab_type": "text"
      },
      "source": [
        "---\n",
        "\n",
        "## 3. N-gramy słów w generowaniu tekstu\n",
        "\n",
        "Innym, bardzo ciekawym zastosowaniem n-gramów jest możliwość generowania tekstu z użyciem tzw. łańcuchów Markova. Stwórzmy funkcję generującą n-gramy słów, aby później móc ją wykorzystać do tworzenia tekstów.\n",
        "\n",
        "**<span style=\"color: red\">Zadanie 3 (1 punkt)</span>** stwórz funkcję, która wygeneruje n-gramy słów zadanego stopnia n (n_gram_len). Aby podzielić zdanie na słowa nie musisz używać tokenizatora z biblioteki, na potrzeby zadania wystarczy uznać, że spacja oddziela poszczególne słowa.\n",
        "<br/>\n",
        "<br/>\n",
        "<div class=\"alert alert-success\">\n",
        "Oczekiwany rezultat dla zadanych danych: <br/><br/>[['The', 'big', 'brown'], ['big', 'brown', 'fox'], ['brown', 'fox', 'jumped'], ['fox', 'jumped', 'over'], ['jumped', 'over', 'the'], ['over', 'the', 'fence.']]\n",
        "</div>\n",
        "<br/>"
      ]
    },
    {
      "cell_type": "code",
      "metadata": {
        "id": "Pi4f_p-KtCrT",
        "colab_type": "code",
        "colab": {
          "base_uri": "https://localhost:8080/",
          "height": 34
        },
        "outputId": "25028ca6-d897-4fd9-df4f-b87280e3a39d"
      },
      "source": [
        "def get_word_ngrams(data, n_gram_len):\n",
        "    words = data.split() # podziel po spacji\n",
        "    ngrams = list() # lista wygenerowanych ngramów\n",
        "    for i in range(len(words) - n_gram_len + 1): # dla każdego słowa (prócz ostatnich)\n",
        "        ngram = list() # stwórz pustą listę\n",
        "        for j in range(i, i + n_gram_len):\n",
        "            ngram.append(words[j])  # i dodawają do niej kolejne słowa\n",
        "        ngrams.append(ngram) # dodawaj ngramy do listy ngrmaów\n",
        "    return ngrams\n",
        "print(get_word_ngrams(\"The big brown fox jumped over the fence.\", 3))"
      ],
      "execution_count": 30,
      "outputs": [
        {
          "output_type": "stream",
          "text": [
            "[['The', 'big', 'brown'], ['big', 'brown', 'fox'], ['brown', 'fox', 'jumped'], ['fox', 'jumped', 'over'], ['jumped', 'over', 'the'], ['over', 'the', 'fence.']]\n"
          ],
          "name": "stdout"
        }
      ]
    },
    {
      "cell_type": "markdown",
      "metadata": {
        "id": "R1eFoy-6tCra",
        "colab_type": "text"
      },
      "source": [
        "Jeśli udało Ci się napisać funkcję get_word_ngrams - zapoznaj się z poniższym kodem i uruchom go, aby wytworzyć tekst!"
      ]
    },
    {
      "cell_type": "code",
      "metadata": {
        "id": "RCYhCp0KtCrc",
        "colab_type": "code",
        "colab": {
          "base_uri": "https://localhost:8080/",
          "height": 54
        },
        "outputId": "2d263820-8a2c-45d6-96ea-467278f8ef04"
      },
      "source": [
        "from collections import Counter\n",
        "import random\n",
        "import itertools\n",
        "\n",
        "def generate_ngram_markov(n_gram_len):\n",
        "    markov_dict = dict() # stwórz słownik, który wskaże listę dozwolonych słów po zaobserwowanych n-poprzednich słowach.\n",
        "    with open(\"polish_europarl.txt\", 'r') as f: # wczytaj korpus danych\n",
        "        data = f.read().lower()                                           # zamień wszystkie wielkie litery na małe\n",
        "        n_grams = get_word_ngrams(data, n_gram_len)                   # wygeneruj wszystkie n-gramy słów z korpusu\n",
        "        for n_gram in n_grams:                   # dla każdego n-gramu...\n",
        "            context = \" \".join(n_gram[:-1])      # weź wszystkie słowa z n-gramu poza ostatnim i połącz w 1 string spacją\n",
        "            last_word = str(n_gram[-1])          # weź ostatnie słowo n-gramu\n",
        "            \n",
        "            if context not in markov_dict.keys(): # jeśli n-gram ubiedzony o ostatnie słowo nie występuje jeszcze w słowniku\n",
        "                markov_dict[context] = list()     # to dopiszmy go do słownika i stwórzmy mu listę\n",
        "            markov_dict[context].append(last_word) # wiedząc, że ubiedzony n-gram jest w słowniku - dopiszmy ostatnie słowo do listy\n",
        "    \n",
        "    for context in markov_dict.keys():                        # dla każdego kontekstu (ubiedzonego n-gramu)\n",
        "        markov_dict[context] = Counter(markov_dict[context])  # stwórz histogram słów jakie występują w korpusie po tym kontekście\n",
        "    \n",
        "    return markov_dict\n",
        "\n",
        "\n",
        "n_gram_len = 3  # liczba słów do stworznia n-gramu\n",
        "markov_dict = generate_ngram_markov(n_gram_len)  # stworzenie słownika z histogramami słów dla poszczególnych kontekstów\n",
        "\n",
        "text = 'Średnio co dwa' # tekst, od którego zaczniemy generowanie\n",
        "\n",
        "for i in range(500):               # powtórzmy 500 razy ...\n",
        "    text_spl = text.split(\" \")     # podzielmy istniejący tekst po spacji (przeprowadźmy naiwną 'tokenizację')\n",
        "    context = \" \".join(text_spl[-n_gram_len+1:])   # pobierzmy ostatnie n_gram_len - 1 słów\n",
        "    idx = random.randrange(sum(markov_dict[context].values())) # sprawdźmy słowa, które są dozwolone jako następniki naszego kontekstu (context) i wybierzmy taki następnik, który zostanie wylosowany zgodnie z rozkładem stworzonym przez histogram.\n",
        "    new_word = next(itertools.islice(markov_dict[context].elements(), idx, None)) # wybierzmy wylosowane słowo\n",
        "    text = text + \" \" + new_word # doklejmy wylosowane słowo na końcu\n",
        "print(text)"
      ],
      "execution_count": 67,
      "outputs": [
        {
          "output_type": "stream",
          "text": [
            "Średnio co dwa miesiące później. komisja i rada nie może to być energia bezpieczna. europy, która jest elementem nowym i uzupełnia inne działania z zachowaniem zasad demokracji, praw człowieka i podstawowe wolności, stanowiąc element budowania trwałej współpracy. zgadzam się z tym należymy do grona regionów, w których lepiej daje sobie radę z przyrostem ruchu danych w tym kontekście pragnę również wyrazic aprobatę wobec propozycji przedstawionych wczoraj przez panią wallis propozycję wprowadzenia w praktyce. w naszym podejściu do kryzysu doprowadziły. w sprawozdaniu uwzględniono regiony, w których straciły życie dziesiątki ludzi. w wielu innych aspektach. w europie miała dobre możliwości rozwoju, jeżeli pozostanie uwięziona w starych technologiach. skutkiem tego w bawełnę i popatrzmy w przyszłość. w jaki sposób redukowane będą deficyty i dług. w grecji, ustanawiając cel polegający na tym, że omawiane wnioski są wyważone i uczciwe podejście. cieszę się, że nie rozwiązuje to wszystkich państw członkowskich w globalnych i regionalnych organizacjach wielostronnych. przedmiotowe sprawozdanie dotyczy wniosku o uchylenie immunitetu poselskiego przez pana posła bernda posselta, zaczyna się z wynikłymi problemami w zakresie zachęcania państw członkowskich, obywateli i przedsiębiorstw na okres obowiązywania pierwszego instrumentu finansowania unijnej współpracy na rzecz integracji są jednak zadania na przyszłość, a przeszłość pozostawić za sobą. te wszystkie działania mające na celu ulepszenie kształcenia ogólnego i zawodowego młodych ludzi z różnych stron. równy dostęp do informacji należy pilnie rozważyć zachowanie zasady odwracalności. celem jest tutaj określenie uprawnień do badania przez właściwe organy, byśmy byli partnerami we współpracy z japonią, co zapewni, że w ramach konstruktywnego dialogu z komisją europejską - które trzeba poddać przeglądowi i uczynić to w ramach europejskiej sieci informacji o ofercie dostępnej w ramach systemu organizacji narodów zjednoczonych, która umożliwi społeczeństwom pozostanie w najbliższym czasie redukcję obciążeń administracyjnych. musimy ustalić priorytety na wszystkich etapach programowania i usprawnienia procesu integracji społecznej. pierwszym z nich korzystać większa liczba młodych ludzi, a także, pośrednio, postępu społeczeństw. podobnie jak środki podatkowe, które można uznać za zwycięstwo. ponadto w sprawozdaniu zwraca się uwagę potencjalnej europejskiej wartości dodanej. w sprawozdaniu zawarte są również niesłychanie ważne. nade wszystko, te warunki będzie trzeba uwzględnić to, że po przeglądzie procedury będziemy się trzymać dwustronnego wymiaru wolnego handlu jako broni klasowej w służbie gospodarki i miejsc pracy. ponadto akt oskarżenia rozszerzono nagle o cztery nowe zarzuty. sędzia wręcz dał do zrozumienia, że chcemy dobrego rozwiązania dla inwestorów, pracowników oraz kadry zarządzającej, a także w innowacje oraz kształcenie i szkolenie zawodowe pozostaje jednym z trzech elementów polityki spójności, zastępując inicjatywę wspólnotową interreg. rozporządzenie podstawowe dotyczące funduszy wysokiego ryzyka, zmienione przepisy vat i uproszczenie dyrektyw dotyczących rachunkowości. równocześnie uważam, że ten trudny moment w historii, jeżeli chodzi o wprowadzające w błąd praktykom stosowanym przez nas w stosunku do poprzedniej umowy, lecz by pozostały na poziomie z roku 2013, a także własny twórczy potencjał. w ramach której analizuje się w czwartek i piątek. w imieniu mojej grupy pragnę pogratulować sprawozdawczyni zaangażowania i szczodrobliwości. sytuacja w obszarach transportu, recyklingu odpadów i postępowania z wypalonym paliwem jądrowym i odpadami promieniotwórczymi od ich wytworzenia do składowania. w planowaniu koncepcji i w dzisiejszym kontekście środowiskowym\n"
          ],
          "name": "stdout"
        }
      ]
    },
    {
      "cell_type": "markdown",
      "metadata": {
        "id": "7qYclhtTtCrg",
        "colab_type": "text"
      },
      "source": [
        "---\n",
        "\n",
        "## 4. N-gramy znakowe w generowaniu tekstu\n",
        "\n",
        "W bardzo podobny sposób do zadania 3, możemy stworzyć model, który generować będzie tekst literka po literce. <br/>\n",
        "**<span style=\"color: red\">Zadanie 4 (1 punkt)</span>** stwórz funkcję, która wygeneruje n-gramy znakowe zadanego stopnia n (n_gram_len).\n",
        "<br/>\n",
        "<br/>\n",
        "<div class=\"alert alert-success\">\n",
        "Oczekiwany rezultat dla zadanych danych: ['The', 'he ', 'e b', ' bi', 'big', 'ig ', 'g b', ' br', 'bro', 'row', 'own', 'wn ', 'n f', ' fo', 'fox', 'ox ', 'x j', ' ju', 'jum', 'ump', 'mpe', 'ped', 'ed ', 'd o', ' ov', 'ove', 'ver', 'er ', 'r t', ' th', 'the', 'he ', 'e f', ' fe', 'fen', 'enc', 'nce', 'ce.']\n",
        "</div>\n",
        "<br/>"
      ]
    },
    {
      "cell_type": "code",
      "metadata": {
        "id": "XXqAK6UOtCrh",
        "colab_type": "code",
        "colab": {
          "base_uri": "https://localhost:8080/",
          "height": 54
        },
        "outputId": "76152f76-4278-43d5-bfc4-9ed45cf1be36"
      },
      "source": [
        "def get_character_ngrams(data, n_gram_len):\n",
        "    characters = list(data)\n",
        "    ngrams = list() # lista wygenerowanych ngramów\n",
        "    for i in range(len(characters) - n_gram_len + 1): # dla każdego znaku (prócz ostatnich)\n",
        "        ngram = '' # stwórz pusty string\n",
        "        for j in range(i, i + n_gram_len):\n",
        "            ngram += characters[j] # i dodawają do niej kolejne znaki\n",
        "        ngrams.append(ngram) # dodawaj ngramy do listy ngrmaów\n",
        "    return ngrams\n",
        "print(get_character_ngrams(\"The big brown fox jumped over the fence.\", 3))"
      ],
      "execution_count": 36,
      "outputs": [
        {
          "output_type": "stream",
          "text": [
            "['The', 'he ', 'e b', ' bi', 'big', 'ig ', 'g b', ' br', 'bro', 'row', 'own', 'wn ', 'n f', ' fo', 'fox', 'ox ', 'x j', ' ju', 'jum', 'ump', 'mpe', 'ped', 'ed ', 'd o', ' ov', 'ove', 'ver', 'er ', 'r t', ' th', 'the', 'he ', 'e f', ' fe', 'fen', 'enc', 'nce', 'ce.']\n"
          ],
          "name": "stdout"
        }
      ]
    },
    {
      "cell_type": "markdown",
      "metadata": {
        "id": "RlmmTEGrtCrm",
        "colab_type": "text"
      },
      "source": [
        "Po stworzeniu funkcji **get_character_ngrams()** możemy uruchomić generator znakowy."
      ]
    },
    {
      "cell_type": "code",
      "metadata": {
        "id": "LWXDasXutCrn",
        "colab_type": "code",
        "colab": {
          "base_uri": "https://localhost:8080/",
          "height": 221
        },
        "outputId": "d9e50ecf-5401-4f5e-d63a-0826cc4d318c"
      },
      "source": [
        "from collections import Counter\n",
        "import random\n",
        "import itertools\n",
        "\n",
        "def generate_ngram_markov(n_gram_len):\n",
        "    markov_dict = dict() # stwórz słownik, który wskaże listę dozwolonych słów po zaobserwowanych n-poprzednich słowach.\n",
        "    with open('pan_tadeusz.txt', 'r') as f: # wczytaj korpus danych\n",
        "        data = f.read().lower()                                           # zamień wszystkie wielkie litery na małe\n",
        "        n_grams = get_character_ngrams(data, n_gram_len)                   # wygeneruj wszystkie n-gramy słów z korpusu\n",
        "        for n_gram in n_grams:                   # dla każdego n-gramu...\n",
        "            context = n_gram[:-1]  # weź wszystkie znaki n-gramu poza ostatnim \n",
        "            last_char = n_gram[-1] # weź ostatni znak n-gramu\n",
        "            if context not in markov_dict.keys(): # jeśli n-gram ubiedzony o ostatni znak nie występuje jeszcze w słowniku\n",
        "                markov_dict[context] = list()     # to dopiszmy go do słownika i stwórzmy mu listę\n",
        "            markov_dict[context].append(last_char) # wiedząc, że ubiedzony n-gram jest w słowniku - dopiszmy ostatni znak do listy\n",
        "    \n",
        "    for context in markov_dict.keys():                        # dla każdego kontekstu (ubiedzonego n-gramu)\n",
        "        markov_dict[context] = Counter(markov_dict[context])  # stwórz histogram liter jakie występują w korpusie po tym kontekście\n",
        "    \n",
        "    return markov_dict\n",
        "\n",
        "\n",
        "text = 'U szlachty' # tekst, od którego zaczniemy generowanie\n",
        "n_gram_len = len(text)  # liczba znaków do stworznia n-gramu\n",
        "markov_dict = generate_ngram_markov(n_gram_len)  # stworzenie słownika z histogramami słów dla poszczególnych kontekstów\n",
        "\n",
        "for i in range(500):               # powtórzmy 500 razy ...\n",
        "    context = text[-n_gram_len+1:]   # pobierzmy ostatnie n_gram_len - 1 słów\n",
        "    idx = random.randrange(sum(markov_dict[context].values())) # sprawdźmy słowa, które są dozwolone jako następniki naszego kontekstu (context) i wybierzmy taki następnik, który zostanie wylosowany zgodnie z rozkładem stworzonym przez histogram.\n",
        "    new_char = next(itertools.islice(markov_dict[context].elements(), idx, None)) # wybierzmy wylosowane słowo\n",
        "    text = text + new_char # doklejmy wylosowany znak na końcu\n",
        "\n",
        "print(text)"
      ],
      "execution_count": 64,
      "outputs": [
        {
          "output_type": "stream",
          "text": [
            "U szlachty uwolniony z kłody,\n",
            "choć zaraz znalazł podobne uczcie nocnej, gdzie nie siedzi żadna.\n",
            "to miejsce gerwazego boku,\n",
            "aż saka, syna swego, postrzegli,\n",
            "wskazuje wszystkie zacnie zrodzone, każda młoda, ładna:\n",
            "tadeusz odmówić:\n",
            "oczyszczając rózgę, tnie moskala, który naszał, z gardłem tak szerokiej gardziel krew czarną w żałobie.\n",
            "sam woźny umiał pas ten odwiązywać, składać;\n",
            "właśnie mu teraz szlachcic to był, służący i raptem boczne drzwi otwarto.\n",
            "\n",
            "    warto by też pomyślić o hrabiego rażony jak gromem,\n",
            "o\n"
          ],
          "name": "stdout"
        }
      ]
    },
    {
      "cell_type": "markdown",
      "metadata": {
        "id": "U9tfnTnbtCrs",
        "colab_type": "text"
      },
      "source": [
        "---\n",
        "\n",
        "## 5. Ngramy do generowania tekstu - długość ngramu a jakość tekstu\n",
        "<span style=\"color: red\">**Zadanie 5 (1 punkt)**</span>\n",
        "Obswerując wyniki z zadań 3 i 4 i sprawdzając różne długości n-gramów (znakowych i słów) zastanów się:\n",
        "<ol>\n",
        "<li>Jakie ryzyko w kontekście jakości tekstu niesie ze sobą tworzenie tekstu z bardzo **krótkich** n-gramów?</li>\n",
        "<li>Jakie ryzyko w kontekście jakości tekstu niesie ze sobą tworzenie tekstu z bardzo **długich** n-gramów?</li>\n",
        "</ol>\n",
        "Odpowiedzi zawrzyj w komentarzu poniżej"
      ]
    },
    {
      "cell_type": "code",
      "metadata": {
        "id": "2EmnJFfytCru",
        "colab_type": "code",
        "colab": {}
      },
      "source": [
        "# Zad 5:\n",
        "#  Pytanie 1:  brak sensu tekstu zauważalny już po pierwszych 2-3 słowach. Problemy z poprawną odmianą\n",
        "#  Pytanie 2:  problem ze znalezieniem kolejnych dozwolonych następników"
      ],
      "execution_count": 0,
      "outputs": []
    },
    {
      "cell_type": "markdown",
      "metadata": {
        "id": "IG7Nf45VtCry",
        "colab_type": "text"
      },
      "source": [
        "---\n",
        "\n",
        "## 6. Bonus: Prawdopodobieństwo wystąpienia zdania - bez punktów\n",
        "Dodatkowo ciekawym zastosowaniem n-gramów jest również ocena - jak bardzo prawdopodobnym jest wystąpienie danego zdania w rzeczywistości. Kiedy rozwiązujemy zadanie translacji mowy na tekst, spotykamy się z sytuacjami, w których nie do końca wiemy, czy słowo, które zostało wypowiedziane to np. \"morze\" czy \"może\". Model językowy oparty o n-gramy może ocenić szansę wystąpienia danego ciągu wyrazów, a więc również wybrać bardziej prawdopodobny ciąg wyrazów w danym języku. <br/>\n",
        "\n",
        "Biorąc pod uwagę, że zdanie to ciąg wyrazów    $w_1, w_2, w_3, ..., w_n$\n",
        "Możemy poczynić upraszczające założenie, że aktualne słowo zależne jest jedynie od słowa poprzedniego, zatem prawdopodobieństwo wystąpienia zdania $P(sentence) = p(w_1|beginOfSentence)*p(w_2|w_1)*p(w_3|w_2)*...*p(w_n|w_(n-1))$\n",
        "\n",
        "Obliczając prawdopodobieństwa warunkowe, może się okazać, że w testowanym przez nas zdaniu mogą wystąpić dwie problematyczne sytuacje:\n",
        "<ol>\n",
        "    <li>słowo konteksowe $w_c$ ze wzoru $p(w_n|w_c)$ nie występuje w korpusie - bardzo mała szansa jeśli korpus jest wystarczająco duży</li>\n",
        "    <li>słowo następujące po kontekstowym ($w_n$) nie współwystępuje w korpusie ze słowem kontekstowym (więc $p(w_n|w_c) = 0$ - całkiem możliwy stan, dość łatwo można sobie wyobrazić sytuację braku współwystępowania pewnych słów nawet przetwarzając duży korpus</li>\n",
        "</ol>\n",
        "\n",
        "Aby poradzić sobie z sytuacją, w której chcemy aby pewne słowo rozpoczynało/kończyło tekst, możemy dodać sztuczne znaczniki początku (BOS - Begin of Sentence) i końca (EOS - End of Sentence) zdania. Wprowadzając te znaczniki, będziemy mogli obliczyć prawdopodobieństwo wystąpienia słowa, pod warunkiem, że rozpoczyna ono zdanie $p(w_n|BOS)$\n",
        "\n",
        "Poniżej znajduje się kod oceniający prawdopodobieństwo wystąpienia zdań. Widzimy, że jedno z tych zdań ma sensowniejszy tekst i chcielibyśmy, aby komputer był w stanie wybrać sensowniejszą opcję.\n",
        "\n",
        "Problematyczne sytuacje rozwiązane zostały następująco:\n",
        "<ol>\n",
        "<li>Jeśli brak słowa kontekstowego w wygenerowanym modelu - uznaj, że prawdopodobieństwo całego zania wynosi 0</li>\n",
        "<li>Jeśli słowo następujące po kontekstowym nie współwystępuje z kontekstowym - użyj wygładzania aby ustawić prawdopodobieństwo na bardzo małą wartość (ale niezerową)</li>\n",
        "</ol>\n",
        "\n",
        "**Zapoznaj się z kodem i urochom go, tutaj nie trzeba nic zmieniać, to jedynie wizualizacja zastosowania. Uwaga - aby poprawnie oszacować prawdopodobieństwa potrzeba posiadać wykonane zadanie 3 (stworzona funkcja get_word_ngrams)**\n"
      ]
    },
    {
      "cell_type": "code",
      "metadata": {
        "id": "8V1ALnI4tCr0",
        "colab_type": "code",
        "colab": {}
      },
      "source": [
        "text1 = \"i heard that the european union is a valuable concept.\" # tekst do oceny\n",
        "text2 = \"i had that the euro bean union is a variable concept.\"  # tekst do oceny\n",
        "\n",
        "from nltk import sent_tokenize                                   # będziemy dzielić na zdania\n",
        "import re                                                        # i czyścić tekst\n",
        "\n",
        "from collections import Counter, defaultdict\n",
        "import random\n",
        "import itertools\n",
        "\n",
        "markov_dict = defaultdict(list)               # słownik zawierający częstości występowania słów w zależności od poprzedzającego je słowa\n",
        "\n",
        "def clean_text(text):\n",
        "    return re.sub(\"[\\n\\t ]+\", \" \", text) # czyszczenie tekstu ze znaków nowej linii, tabulatorów, spacji (wielokrotnych)\n",
        "\n",
        "def make_begin_end_of_sentences(text):\n",
        "    result = \"\"\n",
        "    sentences = sent_tokenize(text)\n",
        "    for sent in sentences:\n",
        "        result += \" <BOS> {s} <EOS> \".format(s=sent) # dla każdego zdania dodajemy specjalne tagi <BOS> = begin of sentence oraz <EOS> - end of sentence\n",
        "    return clean_text(result)\n",
        "\n",
        "def get_sentence_probability(sentence, markov_dict):\n",
        "    sentence = \" <BOS> {s} <EOS> \".format(s=sentence)\n",
        "    sentence = clean_text(sentence)\n",
        "    \n",
        "    sentence = sentence.split(' ')\n",
        "    prob = 1.0\n",
        "    for i in range(len(sentence)):\n",
        "        if i < 1:\n",
        "            continue\n",
        "            \n",
        "        context = sentence[i-1] # słowo poprzedzające\n",
        "        word = sentence[i]      # aktualne słowo\n",
        "        \n",
        "        if context in markov_dict.keys():        # jeśli słowo kontekstowe występuje w modelu - OK\n",
        "            if word in markov_dict[context].keys(): # jeśli słowo 'word' współwystępowało z 'context' w korpusie - obliczmy prawdopodobieństwo tej sytuacji p(wn|wc)\n",
        "                prob *= 1.0* markov_dict[context][word]/sum(markov_dict[context].values())\n",
        "            else:\n",
        "                prob *= 1/(sum(markov_dict[context].values())+1) # smoothing, jeśli dane slowo 'word' nie występowało po słowie 'context' w korpusie, ustalmy wartość prawdopodobieństwa na bardzo neiwielką. \n",
        "        else:\n",
        "            prob *= 0.0   # jeśli brak słowa kontekstowego - bardzo mała szansa - ustawmy prawdopodobieństwo całego zdania na 0\n",
        "    return prob\n",
        "    \n",
        "\n",
        "with open('english_europarl.txt', 'r') as f:\n",
        "    text = clean_text(f.read().lower())\n",
        "    text = make_begin_end_of_sentences(text)\n",
        "    \n",
        "    n_grams = get_word_ngrams(text, 2)  # wygeneruj wszystkie 2-gramy słów z korpusu\n",
        "    for n_gram in n_grams:              # dla każdego n-gramu...\n",
        "        context = n_gram[-2]            # weź przedostatnie słowo jako kontekst\n",
        "        last_word = n_gram[-1]          # weź ostatnie słowo jako kontekst\n",
        "        markov_dict[context].append(last_word) # dopiszmy następniki, które występują w korpusie po kontekście\n",
        "\n",
        "    for context in markov_dict.keys():                        # dla każdego kontekstu\n",
        "        markov_dict[context] = Counter(markov_dict[context])  # stwórz histogram słów jakie występują w korpusie po tym kontekście\n",
        "    \n",
        "    probability_of_sent1 = get_sentence_probability(text1, markov_dict) # wyznacz prawdopodobieństwo wystąpienia text1\n",
        "    probability_of_sent2 = get_sentence_probability(text2, markov_dict) # wyznacz prawdopodobieństwo wystąpienia text2\n",
        "    \n",
        "    print(\"Prawdopodobieństwo wystąpienia zdania 1: {p}\".format(p=get_sentence_probability(text1, markov_dict)))\n",
        "    print(\"Prawdopodobieństwo wystąpienia zdania 2: {p}\".format(p=get_sentence_probability(text2, markov_dict)))"
      ],
      "execution_count": 0,
      "outputs": []
    },
    {
      "cell_type": "code",
      "metadata": {
        "id": "UsVlxA5PtCr4",
        "colab_type": "code",
        "colab": {}
      },
      "source": [
        ""
      ],
      "execution_count": 0,
      "outputs": []
    }
  ]
}