{
  "nbformat": 4,
  "nbformat_minor": 5,
  "metadata": {
    "kernelspec": {
      "display_name": "Python 3",
      "language": "python",
      "name": "python3"
    },
    "language_info": {
      "codemirror_mode": {
        "name": "ipython",
        "version": 3
      },
      "file_extension": ".py",
      "mimetype": "text/x-python",
      "name": "python",
      "nbconvert_exporter": "python",
      "pygments_lexer": "ipython3",
      "version": "3.8.5"
    },
    "colab": {
      "name": "lab_01.ipynb",
      "provenance": [],
      "collapsed_sections": [],
      "include_colab_link": true
    }
  },
  "cells": [
    {
      "cell_type": "markdown",
      "metadata": {
        "id": "view-in-github",
        "colab_type": "text"
      },
      "source": [
        "<a href=\"https://colab.research.google.com/github/pietrzakkuba/natural-language-processing-labs/blob/master/lab_01.ipynb\" target=\"_parent\"><img src=\"https://colab.research.google.com/assets/colab-badge.svg\" alt=\"Open In Colab\"/></a>"
      ]
    },
    {
      "cell_type": "markdown",
      "metadata": {
        "id": "expanded-entrance"
      },
      "source": [
        "# Komputerowe wspomaganie tłumaczenia"
      ],
      "id": "expanded-entrance"
    },
    {
      "cell_type": "markdown",
      "metadata": {
        "id": "atlantic-greenhouse"
      },
      "source": [
        "# Zajęcia 1 - podstawowe techniki wspomagania tłumaczenia"
      ],
      "id": "atlantic-greenhouse"
    },
    {
      "cell_type": "markdown",
      "metadata": {
        "id": "aggregate-listing"
      },
      "source": [
        "Podstawowy scenariusz - tłumacz otrzymuje **dokument** będący ciągiem **segmentów** w **języku źródłowym** . Zadaniem tłumacza jest przetłumaczenie wszystkich segmentów na **język docelowy**. Oznacza to, że został wykonany już szereg operacji technicznych, a w tym:\n",
        "- przesłanie pliku do tłumaczenia\n",
        "- ekstrakcja tekstu z dokumentu\n",
        "- podział tekstu na segmenty.\n"
      ],
      "id": "aggregate-listing"
    },
    {
      "cell_type": "markdown",
      "metadata": {
        "id": "allied-gasoline"
      },
      "source": [
        "Tłumacz tłumaczy jeden segment na raz. Widzi kilka poprzednich oraz kilka następnych segmentów, jednak jego uwaga powinna skupiać się na aktywnym, aktualnie tłumaczonym segmencie. Nie oznacza to jednak, że tłumacz jest pozbawiony pomocy. Ma możliwość korzystania z różnorakich technik **komputerowego wspomagania tłumaczenia**."
      ],
      "id": "allied-gasoline"
    },
    {
      "cell_type": "markdown",
      "metadata": {
        "id": "golden-turkish"
      },
      "source": [
        "# Pamięć tłumaczeń"
      ],
      "id": "golden-turkish"
    },
    {
      "cell_type": "markdown",
      "metadata": {
        "id": "retired-burke"
      },
      "source": [
        "Najbardziej podstawową techniką wspomagania tłumaczenia jest **pamięć tłumaczeń**. Pamięć tłumaczeń stanowi zbiór wcześniej przetłumaczonych zdań:"
      ],
      "id": "retired-burke"
    },
    {
      "cell_type": "code",
      "metadata": {
        "id": "narrow-romantic"
      },
      "source": [
        "translation_memory = [('Wciśnij przycisk Enter', 'Press the ENTER button'), \n",
        "                      ('Sprawdź ustawienia sieciowe', 'Check the network settings')]"
      ],
      "id": "narrow-romantic",
      "execution_count": null,
      "outputs": []
    },
    {
      "cell_type": "code",
      "metadata": {
        "id": "indonesian-electron"
      },
      "source": [
        "def tm_lookup(sentence):\n",
        "    return [entry[1] for entry in translation_memory if entry[0] == sentence]"
      ],
      "id": "indonesian-electron",
      "execution_count": null,
      "outputs": []
    },
    {
      "cell_type": "code",
      "metadata": {
        "colab": {
          "base_uri": "https://localhost:8080/"
        },
        "id": "compact-trinidad",
        "outputId": "e8cf43c8-92a2-46cc-967e-6f99374dbe31"
      },
      "source": [
        "tm_lookup('Wciśnij przycisk Enter')"
      ],
      "id": "compact-trinidad",
      "execution_count": null,
      "outputs": [
        {
          "output_type": "execute_result",
          "data": {
            "text/plain": [
              "['Press the ENTER button']"
            ]
          },
          "metadata": {
            "tags": []
          },
          "execution_count": 31
        }
      ]
    },
    {
      "cell_type": "markdown",
      "metadata": {
        "id": "legislative-portsmouth"
      },
      "source": [
        "W takim przypadku tłumaczenie z pamięci jest najczęściej automatycznie wstawiane jako tłumaczenie segmentu źródłowego i tłumacz nie musi się już nim martwić (co więcej, nie dostaje za takie tłumaczenie zapłaty...)"
      ],
      "id": "legislative-portsmouth"
    },
    {
      "cell_type": "markdown",
      "metadata": {
        "id": "prepared-entry"
      },
      "source": [
        "Tłumacz pracuje dalej i każde wykonane przez niego tłumaczenie trafia do pamięci tłumaczeń (oczywiście dzieje się to automatycznie):"
      ],
      "id": "prepared-entry"
    },
    {
      "cell_type": "code",
      "metadata": {
        "id": "exposed-daniel"
      },
      "source": [
        "translation_memory.append(('Drukarka jest wyłączona', 'The printer is switched off'))\n",
        "translation_memory.append(('Wymagane ponowne uruchomienie komputera', 'System restart required'))\n",
        "translation_memory.append(('Wciśnij przycisk Enter', 'Press the ENTER key'))"
      ],
      "id": "exposed-daniel",
      "execution_count": null,
      "outputs": []
    },
    {
      "cell_type": "markdown",
      "metadata": {
        "id": "alert-cancellation"
      },
      "source": [
        "Z całą pewnością tłumacz stara się przełożyć jakąś komputerową instrukcję. Po wielu godzinach pracy trafia na znane sobie zdanie \"Wciśnij przycisk Enter\". Następuje przeszukanie pamięci tłumaczeń:"
      ],
      "id": "alert-cancellation"
    },
    {
      "cell_type": "code",
      "metadata": {
        "colab": {
          "base_uri": "https://localhost:8080/"
        },
        "id": "serial-velvet",
        "outputId": "83923b31-2b13-4b68-c1e1-c145f054ee3e"
      },
      "source": [
        "tm_lookup('Wciśnij przycisk Enter')"
      ],
      "id": "serial-velvet",
      "execution_count": null,
      "outputs": [
        {
          "output_type": "execute_result",
          "data": {
            "text/plain": [
              "['Press the ENTER button', 'Press the ENTER key']"
            ]
          },
          "metadata": {
            "tags": []
          },
          "execution_count": 33
        }
      ]
    },
    {
      "cell_type": "markdown",
      "metadata": {
        "id": "meaning-breathing"
      },
      "source": [
        "Jak widać, mamy w pamięci dwa tłumaczenia tego zdania. To tłumacz musi zadecydować, które tłumaczenie wybrać. O metodach wspomagania decyzji tłumacza w takich przypadkach będziemy jeszcze mówić."
      ],
      "id": "meaning-breathing"
    },
    {
      "cell_type": "markdown",
      "metadata": {
        "id": "miniature-interim"
      },
      "source": [
        "Przeanalizujmy teraz następujący przypadek: do tłumaczenia trafia zdanie: \"Wciśnij przycisk ENTER\":"
      ],
      "id": "miniature-interim"
    },
    {
      "cell_type": "code",
      "metadata": {
        "colab": {
          "base_uri": "https://localhost:8080/"
        },
        "id": "every-gibson",
        "outputId": "aae8ece7-1725-4577-d2f9-f1e85f66b88e"
      },
      "source": [
        "tm_lookup('Wciśnij przycisk ENTER')"
      ],
      "id": "every-gibson",
      "execution_count": null,
      "outputs": [
        {
          "output_type": "execute_result",
          "data": {
            "text/plain": [
              "[]"
            ]
          },
          "metadata": {
            "tags": []
          },
          "execution_count": 34
        }
      ]
    },
    {
      "cell_type": "markdown",
      "metadata": {
        "id": "restricted-oregon"
      },
      "source": [
        "Tutaj tłumacz nie ma szczęścia - restrykcyjny mechanizm wyszukiwania nie podaje mu podpowiedzi. Możemy jednak sprawić, żeby przeszukiwanie pamięci tłumaczeń nie brało pod uwagę wielkości liter."
      ],
      "id": "restricted-oregon"
    },
    {
      "cell_type": "markdown",
      "metadata": {
        "id": "inclusive-bargain"
      },
      "source": [
        "### Ćwiczenie 1: zmodyfikuj funkcję tm_lookup w taki sposób, aby nie brała pod uwagę wielkości liter. Przetestuj zmodyfikowaną funkcję."
      ],
      "id": "inclusive-bargain"
    },
    {
      "cell_type": "code",
      "metadata": {
        "id": "protected-rings",
        "colab": {
          "base_uri": "https://localhost:8080/"
        },
        "outputId": "7ed8dc0f-b45a-45f1-9a95-fb1197f9f554"
      },
      "source": [
        "def tm_lookup(sentence):\n",
        "    return [entry[1] for entry in translation_memory if entry[0].lower() == sentence.lower()]\n",
        "\n",
        "tm_lookup('Wciśnij przycisk ENTER')"
      ],
      "id": "protected-rings",
      "execution_count": null,
      "outputs": [
        {
          "output_type": "execute_result",
          "data": {
            "text/plain": [
              "['Press the ENTER button', 'Press the ENTER key']"
            ]
          },
          "metadata": {
            "tags": []
          },
          "execution_count": 37
        }
      ]
    },
    {
      "cell_type": "markdown",
      "metadata": {
        "id": "dress-plymouth"
      },
      "source": [
        "Nasz tłumacz powinien być teraz zadowolony. Jednak w dalszej części dokumentu pojawiło się inne podobne zdanie, dla którego nie było tłumaczenia:"
      ],
      "id": "dress-plymouth"
    },
    {
      "cell_type": "code",
      "metadata": {
        "id": "severe-alloy",
        "colab": {
          "base_uri": "https://localhost:8080/"
        },
        "outputId": "278af77a-326e-43a8-9615-1150dabd885b"
      },
      "source": [
        "tm_lookup('Wciśnij przycisk [ENTER]')"
      ],
      "id": "severe-alloy",
      "execution_count": null,
      "outputs": [
        {
          "output_type": "execute_result",
          "data": {
            "text/plain": [
              "[]"
            ]
          },
          "metadata": {
            "tags": []
          },
          "execution_count": 51
        }
      ]
    },
    {
      "cell_type": "markdown",
      "metadata": {
        "id": "choice-committee"
      },
      "source": [
        "### Ćwiczenie 2: zmodyfikuj funkcję tm_lookup w taki sposób, aby nie brała pod uwagę znaków interpunkcyjnych. Rada - zdefiniuj funkcję sentence_similar."
      ],
      "id": "choice-committee"
    },
    {
      "cell_type": "code",
      "metadata": {
        "id": "structural-diesel",
        "colab": {
          "base_uri": "https://localhost:8080/"
        },
        "outputId": "f4a08928-1828-40ca-cae0-2399ab345971"
      },
      "source": [
        "from string import punctuation\n",
        "\n",
        "def sentence_similar(sentence):\n",
        "    new_sentence = sentence.lower()\n",
        "    for char in punctuation:\n",
        "        if char in sentence:\n",
        "            new_sentence = new_sentence.replace(char, '')\n",
        "    return new_sentence\n",
        "\n",
        "def tm_lookup(sentence):\n",
        "    return [entry[1] for entry in translation_memory if sentence_similar(entry[0]) == sentence_similar(sentence)]\n",
        "\n",
        "tm_lookup('Wciśnij przycisk [ENTER]')"
      ],
      "id": "structural-diesel",
      "execution_count": null,
      "outputs": [
        {
          "output_type": "execute_result",
          "data": {
            "text/plain": [
              "['Press the ENTER button', 'Press the ENTER key']"
            ]
          },
          "metadata": {
            "tags": []
          },
          "execution_count": 78
        }
      ]
    },
    {
      "cell_type": "markdown",
      "metadata": {
        "id": "physical-distribution"
      },
      "source": [
        "Praca tłumacza oczywiście trwa nadal. Spróbujmy teraz zaradzić następującej sytuacji - tłumacz otrzymuje do tłumaczenia następujące zdanie:"
      ],
      "id": "physical-distribution"
    },
    {
      "cell_type": "code",
      "metadata": {
        "id": "brief-senegal",
        "colab": {
          "base_uri": "https://localhost:8080/"
        },
        "outputId": "71475451-eb8c-43bd-9a31-19c3f061f3b9"
      },
      "source": [
        "tm_lookup('Wymagane ponowne uruchomienie maszyny')"
      ],
      "id": "brief-senegal",
      "execution_count": null,
      "outputs": [
        {
          "output_type": "execute_result",
          "data": {
            "text/plain": [
              "[]"
            ]
          },
          "metadata": {
            "tags": []
          },
          "execution_count": 79
        }
      ]
    },
    {
      "cell_type": "markdown",
      "metadata": {
        "id": "guided-tutorial"
      },
      "source": [
        "Znów nie otrzymuje od nas podpowiedzi i znów nic w tym dziwnego - w pamięci tłumaczeń nie znajduje się takie zdanie. Jest jednak zdanie podobne, różniące się jednym słowem."
      ],
      "id": "guided-tutorial"
    },
    {
      "cell_type": "markdown",
      "metadata": {
        "id": "laughing-preview"
      },
      "source": [
        "### Ćwiczenie 3: zmodyfikuj funkcję tm_lookup w taki sposób, aby zwracała podpowiedzi także wtedy, gdy zdania różnią się tylko jednym słowem."
      ],
      "id": "laughing-preview"
    },
    {
      "cell_type": "code",
      "metadata": {
        "id": "mathematical-customs",
        "colab": {
          "base_uri": "https://localhost:8080/"
        },
        "outputId": "6ac2504c-4343-437d-f018-8f43539b1d10"
      },
      "source": [
        "def have_max_one_different_word(sen1, sen2):\n",
        "    diffs = 0\n",
        "    sen1_words = sentence_similar(sen1).split()\n",
        "    sen2_words = sentence_similar(sen2).split()\n",
        "    for (word1, word2) in zip(sen1_words, sen2_words):\n",
        "        if word1 != word2:\n",
        "            diffs += 1\n",
        "            if diffs > 1:\n",
        "                return False\n",
        "    return True\n",
        "\n",
        "\n",
        "\n",
        "def tm_lookup(sentence):\n",
        "    return [entry[1] for entry in translation_memory if have_max_one_different_word(entry[0], sentence)]\n",
        "\n",
        "tm_lookup('Wymagane ponowne uruchomienie maszyny')"
      ],
      "id": "mathematical-customs",
      "execution_count": null,
      "outputs": [
        {
          "output_type": "execute_result",
          "data": {
            "text/plain": [
              "['System restart required']"
            ]
          },
          "metadata": {
            "tags": []
          },
          "execution_count": 94
        }
      ]
    },
    {
      "cell_type": "markdown",
      "metadata": {
        "id": "meaningful-virus"
      },
      "source": [
        "# Słownik kontekstowy / glosariusz"
      ],
      "id": "meaningful-virus"
    },
    {
      "cell_type": "markdown",
      "metadata": {
        "id": "early-variety"
      },
      "source": [
        "Inną podstawową pomocą dla naszego tłumacza jest słownik, zwany także glosariuszem. Stanowi on zbiór terminów w języku źródłowym wraz z ich tłumaczeniami na język docelowy:"
      ],
      "id": "early-variety"
    },
    {
      "cell_type": "code",
      "metadata": {
        "id": "humanitarian-wrong"
      },
      "source": [
        "glossary = [('komputer', 'computer'), ('przycisk', 'button'), ('drukarka', 'printer')]"
      ],
      "id": "humanitarian-wrong",
      "execution_count": null,
      "outputs": []
    },
    {
      "cell_type": "markdown",
      "metadata": {
        "id": "minimal-moral"
      },
      "source": [
        "Podczas tłumaczenia, glosariusz jest przeszukiwany w celu znalezienia aktualnie tłumaczonych słów."
      ],
      "id": "minimal-moral"
    },
    {
      "cell_type": "code",
      "metadata": {
        "id": "located-perception"
      },
      "source": [
        "def glossary_lookup(sentence):\n",
        "    sentence_words = sentence.split()\n",
        "    return [entry for entry in glossary if entry[0] in sentence_words]"
      ],
      "id": "located-perception",
      "execution_count": null,
      "outputs": []
    },
    {
      "cell_type": "code",
      "metadata": {
        "id": "advised-casting",
        "colab": {
          "base_uri": "https://localhost:8080/"
        },
        "outputId": "0ba2b9c3-2dab-4424-f008-cfe39874f812"
      },
      "source": [
        "glossary_lookup('Każda drukarka posiada przycisk wznowienia drukowania')"
      ],
      "id": "advised-casting",
      "execution_count": null,
      "outputs": [
        {
          "output_type": "execute_result",
          "data": {
            "text/plain": [
              "[('przycisk', 'button'), ('drukarka', 'printer')]"
            ]
          },
          "metadata": {
            "tags": []
          },
          "execution_count": 97
        }
      ]
    },
    {
      "cell_type": "markdown",
      "metadata": {
        "id": "blessed-gentleman"
      },
      "source": [
        "### Ćwiczenie 4: (tym razem teoretyczne) Jaka jest złożoność obliczeniowa czasowa przedstawionego powyżej algorytmu względem liczby haseł w słowniku (n) oraz liczby słów w zdaniu do tłumaczenia (m)?"
      ],
      "id": "blessed-gentleman"
    },
    {
      "cell_type": "markdown",
      "metadata": {
        "id": "JnPSCtUSG90R"
      },
      "source": [
        "Odpowiedź: \r\n",
        "Złożonośc wynosi n * m. \r\n",
        "Uzasadnienie: \r\n",
        "dla każdego hasła w glosariuszu (czyli n razy) przeszukujumy całe zdanie dokonując m porównań.  "
      ],
      "id": "JnPSCtUSG90R"
    },
    {
      "cell_type": "markdown",
      "metadata": {
        "id": "objective-matthew"
      },
      "source": [
        "### Ćwiczenie 5: zmodyfikuj funkcję glossary_lookup w taki sposób, aby nie brała pod uwagę wielkości liter."
      ],
      "id": "objective-matthew"
    },
    {
      "cell_type": "code",
      "metadata": {
        "id": "original-tunisia",
        "colab": {
          "base_uri": "https://localhost:8080/"
        },
        "outputId": "df5698a1-d8de-46c2-aed0-141896b8f4b6"
      },
      "source": [
        "def glossary_lookup(sentence):\n",
        "    sentence_words = [word.lower() for word in sentence.split()]\n",
        "    return [entry for entry in glossary if entry[0].lower() in sentence_words]\n",
        "\n",
        "glossary_lookup('Każda DrukARKA posiada pRZycisk wznowienia drukowania')"
      ],
      "id": "original-tunisia",
      "execution_count": null,
      "outputs": [
        {
          "output_type": "execute_result",
          "data": {
            "text/plain": [
              "[('przycisk', 'button'), ('drukarka', 'printer')]"
            ]
          },
          "metadata": {
            "tags": []
          },
          "execution_count": 102
        }
      ]
    },
    {
      "cell_type": "markdown",
      "metadata": {
        "id": "injured-hormone"
      },
      "source": [
        "### Ćwiczenie 6: zmodyfikuj funkcję glossary_lookup w taki sposób, aby jej złożoność obliczeniowa była mniejsza."
      ],
      "id": "injured-hormone"
    },
    {
      "cell_type": "code",
      "metadata": {
        "id": "adolescent-semiconductor",
        "colab": {
          "base_uri": "https://localhost:8080/"
        },
        "outputId": "0d8c881a-d574-4126-e6d9-8af2113a9866"
      },
      "source": [
        "glossary = {\n",
        "    'komputer': 'computer',\n",
        "    'przycisk': 'button',\n",
        "    'drukarka': 'printer'\n",
        "}\n",
        "def glossary_lookup(sentence):\n",
        "    sentence_words = [word.lower() for word in sentence.split()]\n",
        "    return [(word, glossary[word]) for word in sentence_words if word in glossary]\n",
        "\n",
        "glossary_lookup('Każda DrukARKA posiada pRZycisk wznowienia drukowania')\n",
        "\n",
        "# złożoność jest mniejsza, ponieważ wyszukanie danego elementu w słowniku zajmuje O(1)\n",
        "# a w liście O(n) gdzie n to długość listy"
      ],
      "id": "adolescent-semiconductor",
      "execution_count": null,
      "outputs": [
        {
          "output_type": "execute_result",
          "data": {
            "text/plain": [
              "[('drukarka', 'printer'), ('przycisk', 'button')]"
            ]
          },
          "metadata": {
            "tags": []
          },
          "execution_count": 112
        }
      ]
    }
  ]
}